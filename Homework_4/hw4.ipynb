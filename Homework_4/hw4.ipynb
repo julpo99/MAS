{
 "cells": [
  {
   "cell_type": "markdown",
   "metadata": {},
   "source": [
    "# Homework 4 Notebook"
   ]
  },
  {
   "cell_type": "markdown",
   "metadata": {},
   "source": [
    "### 5.2 Warming up"
   ]
  },
  {
   "cell_type": "code",
   "execution_count": 4,
   "metadata": {},
   "outputs": [
    {
     "name": "stdout",
     "output_type": "stream",
     "text": [
      "Mean: 0.6069426250283675\n",
      "STD: 0.4470797750384943\n",
      "[0.606066348669292;0.607818901387443]\n"
     ]
    }
   ],
   "source": [
    "import numpy as np\n",
    "\n",
    "\n",
    "def run_experiemnt(n: int) -> tuple[float, float]:\n",
    "    cos_values = np.ndarray(shape=(n))\n",
    "    x = np.random.normal(0.0, 1.0, n)\n",
    "    cos_2 = lambda x: np.cos(x)# * np.cos(x)\n",
    "    cos_values = cos_2(x)\n",
    "    return cos_values.mean(), cos_values.std()\n",
    "\n",
    "n = 1000000\n",
    "mean, std = run_experiemnt(n)\n",
    "print(F\"Mean: {mean}\")\n",
    "print(F\"STD: {std}\")\n",
    "print(F\"[{mean - 1.96*(std/np.sqrt(n))};{mean + 1.96*(std/np.sqrt(n))}]\")"
   ]
  },
  {
   "cell_type": "markdown",
   "metadata": {},
   "source": [
    "### 5.3 "
   ]
  },
  {
   "cell_type": "code",
   "execution_count": 3,
   "metadata": {},
   "outputs": [],
   "source": [
    "x = np.abs(-1)"
   ]
  }
 ],
 "metadata": {
  "kernelspec": {
   "display_name": "Python 3",
   "language": "python",
   "name": "python3"
  },
  "language_info": {
   "codemirror_mode": {
    "name": "ipython",
    "version": 3
   },
   "file_extension": ".py",
   "mimetype": "text/x-python",
   "name": "python",
   "nbconvert_exporter": "python",
   "pygments_lexer": "ipython3",
   "version": "3.11.0rc1"
  }
 },
 "nbformat": 4,
 "nbformat_minor": 2
}
