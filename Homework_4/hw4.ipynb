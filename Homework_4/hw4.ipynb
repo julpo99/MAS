{
 "cells": [
  {
   "cell_type": "markdown",
   "metadata": {},
   "source": [
    "# Homework 4 Notebook"
   ]
  },
  {
   "cell_type": "markdown",
   "metadata": {},
   "source": [
    "### 5.2 Warming up"
   ]
  },
  {
   "cell_type": "code",
   "execution_count": 124,
   "metadata": {},
   "outputs": [
    {
     "name": "stdout",
     "output_type": "stream",
     "text": [
      "shifted mean: 0.7974630678065935\n",
      "Mean: 0.5677598826443075\n",
      "STD: 0.34701476485330585\n",
      "CI: [0.567079733705195;0.56844003158342]\n"
     ]
    }
   ],
   "source": [
    "import numpy as np\n",
    "\n",
    "\n",
    "def run_experiement(n: int) -> tuple[float, float]:\n",
    "    cos_values = np.random.normal(0.0, 1.0, n)\n",
    "    print(f\"shifted mean: {np.abs(cos_values).mean()}\")\n",
    "    cos_2 = lambda x: np.cos(x) * np.cos(x)\n",
    "    cos_values = cos_2(cos_values)\n",
    "    return cos_values.mean(), cos_values.std()\n",
    "\n",
    "n = 1000000\n",
    "mean, std = run_experiement(n)\n",
    "print(F\"Mean: {mean}\")\n",
    "print(F\"STD: {std}\")\n",
    "print(F\"CI: [{mean - 1.96*(std/np.sqrt(n))};{mean + 1.96*(std/np.sqrt(n))}]\")"
   ]
  },
  {
   "cell_type": "markdown",
   "metadata": {},
   "source": [
    "### 5.3 "
   ]
  },
  {
   "cell_type": "code",
   "execution_count": 3,
   "metadata": {},
   "outputs": [],
   "source": [
    "x = np.abs(-1)"
   ]
  },
  {
   "cell_type": "markdown",
   "metadata": {},
   "source": [
    "### 5.4 4"
   ]
  },
  {
   "cell_type": "code",
   "execution_count": 5,
   "metadata": {},
   "outputs": [
    {
     "name": "stdout",
     "output_type": "stream",
     "text": [
      "nan\n"
     ]
    },
    {
     "name": "stderr",
     "output_type": "stream",
     "text": [
      "/tmp/ipykernel_33084/2283010907.py:2: RuntimeWarning: invalid value encountered in log\n",
      "  log = lambda x: np.log(x)\n"
     ]
    }
   ],
   "source": [
    "def get_kl_div(samples_f, samples_g):\n",
    "    log = lambda x: np.log(x)\n",
    "    samples_f = log(samples_f)\n",
    "    samples_g = log(samples_g)\n",
    "    samples_div = samples_f - samples_g\n",
    "    return samples_div.mean()\n",
    "\n",
    "n_samples = 100\n",
    "f_x = np.random.normal(0.0, 1.0, n_samples)\n",
    "g_x = np.random.normal(1.0, 1.0, n_samples)\n",
    "div = get_kl_div(f_x, g_x)\n",
    "print(div)"
   ]
  },
  {
   "cell_type": "markdown",
   "metadata": {},
   "source": [
    "## 6 Exploration versus Exploitation"
   ]
  },
  {
   "cell_type": "code",
   "execution_count": 85,
   "metadata": {},
   "outputs": [],
   "source": [
    "from abc import ABC\n",
    "# Bandit\n",
    "class OneArmedBandit:\n",
    "    def __init__(self, mean, \n",
    "        std=1.0) -> None:\n",
    "        self.mean = mean\n",
    "        self.std = std\n",
    "\n",
    "    def get_sample(self) -> float:\n",
    "        return np.random.normal(self.mean, self.std)\n",
    "\n",
    "# Strategies\n",
    "class Strategy(ABC):\n",
    "    def __init__(self) -> None:\n",
    "        pass\n",
    "\n",
    "    def get_next_move(self) -> int:\n",
    "        \"\"\"Generate the next move of the strategy\n",
    "\n",
    "        Args:\n",
    "            previous_moves (list): _description_\n",
    "\n",
    "        Returns:\n",
    "            int: the bandit arm to pull on\n",
    "        \"\"\"\n",
    "        raise NotImplementedError\n",
    "    \n",
    "    def update_representation(self, bandit: int, return_value: float) -> None:\n",
    "        \"\"\"Updates the state of the strategy. This gets the return\n",
    "        of pulling an arm of a One Armed Bandit.\n",
    "\n",
    "        Args:\n",
    "            bandit (int): number of bandit machine\n",
    "            return_value (float): Return of one armed bandit\n",
    "        \"\"\"\n",
    "        raise NotImplementedError\n",
    "\n",
    "\n",
    "class EpsilonGreedyStrategy(Strategy):\n",
    "    def __init__(self, epsilon: float, k: int) -> None:\n",
    "        \"\"\"\n",
    "        Args:\n",
    "            epsilon (float): probability of non greedy move (explore)\n",
    "            k (int): number of bandits \n",
    "        \"\"\"\n",
    "        self.epsilon = epsilon\n",
    "        self.previous_pulls = [np.empty(shape=(0,)) for i in range(k)]\n",
    "        self.k = k\n",
    "    \n",
    "    def get_next_move(self) -> int:\n",
    "        greedy = (self.epsilon < np.random.random())\n",
    "        if greedy:\n",
    "            filtered = [x.mean() if x.shape[0]!=0 else 0 for x in self.previous_pulls]\n",
    "            return np.argmax(np.array(filtered))\n",
    "        return np.random.randint(low=0, high=self.k)\n",
    "\n",
    "    def update_representation(self, bandit: int, return_value: float) -> None:\n",
    "        self.previous_pulls[bandit] = np.append(self.previous_pulls[bandit], [return_value])\n",
    "\n",
    "\n",
    "class UCBStrategy(Strategy):\n",
    "    def __init__(self, c: float, k: int) -> None:\n",
    "        self.t = 0\n",
    "        self.c = c\n",
    "        self.n = [0] * k\n",
    "        self.previous_pulls = [np.empty(shape=(0,)) for i in range(k)]\n",
    "        self.k = 0\n",
    "\n",
    "    def get_next_move(self) -> int:\n",
    "        bandit_means = [x.mean() if x.shape[0]!=0 else 0 for x in self.previous_pulls]\n",
    "        u_t = [self.c * np.sqrt(np.log(self.t)/n) if n!=0 else np.infty for n in self.n]\n",
    "        upper_bounds = [a + u for a, u in zip(bandit_means, u_t)]\n",
    "        self.t += 1\n",
    "        return np.argmax(np.array(upper_bounds))\n",
    "\n",
    "    def update_representation(self, bandit: int, return_value: float) -> None:\n",
    "        self.n[bandit] += 1\n",
    "        self.previous_pulls[bandit] = np.append(self.previous_pulls[bandit], [return_value])\n"
   ]
  },
  {
   "cell_type": "code",
   "execution_count": 111,
   "metadata": {},
   "outputs": [],
   "source": [
    "\n",
    "\n",
    "def pull_arms(bandits: list[OneArmedBandit], strategy: Strategy, max_pulls=1000) -> np.ndarray:\n",
    "    history = np.zeros(shape=(max_pulls,))\n",
    "    for pull in range(max_pulls):\n",
    "        bandit_nr = strategy.get_next_move()\n",
    "        history[pull] = bandits[bandit_nr].mean\n",
    "        return_value = bandits[bandit_nr].get_sample()\n",
    "        strategy.update_representation(bandit_nr, return_value)\n",
    "    return history\n",
    "\n",
    "\n",
    "def get_expected_regret(q_star: float, history: np.array):\n",
    "    regret = q_star - history\n",
    "    return regret\n"
   ]
  },
  {
   "cell_type": "code",
   "execution_count": 99,
   "metadata": {},
   "outputs": [
    {
     "name": "stdout",
     "output_type": "stream",
     "text": [
      "q*: 0.9287129317062807\n",
      "mean regret: 0.07137017208732144\n"
     ]
    }
   ],
   "source": [
    "\n",
    "# Get values for e-greedy\n",
    "k = 2\n",
    "# epsilon greed< strategy, UCB strategy\n",
    "egs = EpsilonGreedyStrategy(0.5, k)\n",
    "bandits = [OneArmedBandit(np.random.random()) for _ in range(k)]\n",
    "q_star = max([b.mean for b in bandits])\n",
    "history = pull_arms(bandits, egs)\n",
    "regret_mean = get_expected_regret(q_star, history)\n",
    "\n",
    "print(f\"q*: {q_star}\")\n",
    "print(f\"mean regret: {regret_mean}\")"
   ]
  },
  {
   "cell_type": "code",
   "execution_count": 179,
   "metadata": {},
   "outputs": [
    {
     "name": "stdout",
     "output_type": "stream",
     "text": [
      "a1=0.441725831085109, delta a1=0.0\n",
      "a2=0.3495025420168505, delta a2=0.0922232890682585\n",
      "q*: 0.441725831085109\n",
      "mean regret: 0.029419229212774456\n"
     ]
    },
    {
     "data": {
      "image/png": "[encoded data removed]",
      "text/plain": [
       "<Figure size 640x480 with 1 Axes>"
      ]
     },
     "metadata": {},
     "output_type": "display_data"
    }
   ],
   "source": [
    "import matplotlib.pyplot as plt\n",
    "# Get values for UCB\n",
    "k = 2\n",
    "# epsilon greed< strategy, UCB strategy\n",
    "strategy = UCBStrategy(2, k)\n",
    "bandits = [OneArmedBandit(np.random.random()) for _ in range(k)]\n",
    "q_star = max([b.mean for b in bandits])\n",
    "history = pull_arms(bandits, strategy)\n",
    "regret = get_expected_regret(q_star, history)\n",
    "\n",
    "\n",
    "plt.plot(list(range(k)), [x.mean() for x in strategy.previous_pulls])\n",
    "plt.plot(list(range(k)), [b.mean for b in bandits])\n",
    "#plt.show()\n",
    "#plt.plot(list(range(len(history))), regret.cumsum())\n",
    "print(f\"a1={bandits[0].mean}, delta a1={q_star-bandits[0].mean}\")\n",
    "print(f\"a2={bandits[1].mean}, delta a2={q_star-bandits[1].mean}\")\n",
    "print(f\"q*: {q_star}\")\n",
    "print(f\"mean regret: {regret.mean()}\")"
   ]
  }
 ],
 "metadata": {
  "kernelspec": {
   "display_name": "Python 3",
   "language": "python",
   "name": "python3"
  },
  "language_info": {
   "codemirror_mode": {
    "name": "ipython",
    "version": 3
   },
   "file_extension": ".py",
   "mimetype": "text/x-python",
   "name": "python",
   "nbconvert_exporter": "python",
   "pygments_lexer": "ipython3",
   "version": "3.11.0rc1"
  }
 },
 "nbformat": 4,
 "nbformat_minor": 2
}
