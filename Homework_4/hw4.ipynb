{
 "cells": [
  {
   "cell_type": "markdown",
   "metadata": {},
   "source": [
    "# Homework 4 Notebook"
   ]
  },
  {
   "cell_type": "markdown",
   "metadata": {},
   "source": [
    "### 5.2 Warming up . . ."
   ]
  },
  {
   "cell_type": "code",
   "execution_count": null,
   "outputs": [],
   "source": [
    "import numpy as np\n",
    "\n",
    "\n",
    "def run_experiemnt(n: int) -> tuple[float, float]:\n",
    "    cos_values = np.ndarray(shape=(n))\n",
    "    x = np.random.normal(0.0, 1.0, n)\n",
    "    cos_2 = lambda x: np.cos(x) * np.cos(x)\n",
    "    cos_values = cos_2(x)\n",
    "    return cos_values.mean(), cos_values.std()\n",
    "\n",
    "n = 1000000\n",
    "mean, std = run_experiemnt(n)\n",
    "print(F\"Mean: {mean}\")\n",
    "print(F\"STD: {std}\")\n",
    "print(F\"[{mean - 1.96*(std/np.sqrt(n))};{mean + 1.96*(std/np.sqrt(n))}]\")\n",
    "\n",
    "margin_of_error = 1.96 * (std / np.sqrt(n))\n",
    "print(f\"Margin of Error: {margin_of_error}\")"
   ],
   "metadata": {
    "collapsed": false
   }
  },
  {
   "cell_type": "code",
   "execution_count": null,
   "outputs": [],
   "source": [],
   "metadata": {
    "collapsed": false
   }
  },
  {
   "cell_type": "markdown",
   "metadata": {},
   "source": [
    "### 5.3 Quantifying the significance of an observed correlation"
   ]
  },
  {
   "cell_type": "code",
   "execution_count": null,
   "metadata": {},
   "outputs": [],
   "source": [
    "import numpy as np\n",
    "\n",
    "# Set random seed for reproducibility\n",
    "np.random.seed(0)\n",
    "\n",
    "# Parameters\n",
    "num_simulations = 1000000  # Number of Monte Carlo simulations\n",
    "observed_corr = 0.3  # Observed correlation value\n",
    "num_experiments = 10  # Number of experiments you have conducted\n",
    "\n",
    "# Function to generate random data and calculate correlation\n",
    "def simulate_correlation(num_experiments):\n",
    "    # Simulate independent data for A and S\n",
    "    A = np.random.rand(num_experiments)\n",
    "    S = np.random.rand(num_experiments)\n",
    "    \n",
    "    # Calculate and return correlation coefficient\n",
    "    return np.corrcoef(A, S)[0, 1]\n",
    "\n",
    "# Running the Monte Carlo simulation\n",
    "extreme_count = 0\n",
    "for _ in range(num_simulations):\n",
    "    corr = simulate_correlation(num_experiments)\n",
    "    if abs(corr) >= observed_corr:\n",
    "        extreme_count += 1\n",
    "\n",
    "# Calculate p-value\n",
    "p_value = extreme_count / num_simulations\n",
    "\n",
    "# Output the result\n",
    "print(f\"Simulated p-value: {p_value}\")\n",
    "\n",
    "# Interpretation\n",
    "if p_value < 0.05:\n",
    "    print(\"The correlation is likely significant.\")\n",
    "else:\n",
    "    print(\"The correlation is not statistically significant.\")\n"
   ]
  },
  {
   "cell_type": "markdown",
   "source": [
    "### 5.4 Kullback-Leibler divergence"
   ],
   "metadata": {
    "collapsed": false
   }
  },
  {
   "cell_type": "code",
   "execution_count": null,
   "outputs": [],
   "source": [],
   "metadata": {
    "collapsed": false
   }
  }
 ],
 "metadata": {
  "kernelspec": {
   "display_name": "Python 3",
   "language": "python",
   "name": "python3"
  },
  "language_info": {
   "codemirror_mode": {
    "name": "ipython",
    "version": 3
   },
   "file_extension": ".py",
   "mimetype": "text/x-python",
   "name": "python",
   "nbconvert_exporter": "python",
   "pygments_lexer": "ipython3",
   "version": "3.11.0rc1"
  }
 },
 "nbformat": 4,
 "nbformat_minor": 2
}
